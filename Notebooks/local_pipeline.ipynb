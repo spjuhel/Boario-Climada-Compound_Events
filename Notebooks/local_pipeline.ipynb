{
 "cells": [
  {
   "cell_type": "code",
   "execution_count": null,
   "id": "ee093706-9ba0-4e4f-b007-ec0d20fe0861",
   "metadata": {},
   "outputs": [],
   "source": [
    "import pandas as pd\n",
    "import os\n",
    "import glob\n",
    "import re\n",
    "\n",
    "# Create an empty list to store dataframes\n",
    "dataframes = []\n",
    "\n",
    "# Define the pattern for the file search\n",
    "file_pattern = \"../../Boario-Climada-Compound_Events/outputs/sample_*/*_meta_df_impact.parquet\"\n",
    "\n",
    "# Loop through files and read data\n",
    "for file_path in glob.glob(file_pattern):\n",
    "    filename = os.path.basename(file_path)\n",
    "    # Use regex to extract sample number and MRIOT name\n",
    "    match = re.search(r\"sample_(\\d+)/(.+)_meta_df_impact\\.parquet\", file_path)\n",
    "    if match:\n",
    "        n = int(match.group(1))\n",
    "        mriot_name = match.group(2)\n",
    "        if n >= 0 and n <= 100:  # Replace N with the total number of samples\n",
    "            df = pd.read_parquet(file_path)\n",
    "            df = df.reset_index()\n",
    "            df[\"sample\"] = n\n",
    "            df[\"MRIOT\"] = mriot_name\n",
    "            dataframes.append(df)\n",
    "    else:\n",
    "        print(\"Oh noes\")\n",
    "\n",
    "# Concatenate all dataframes into a single dataframe\n",
    "combined_df = pd.concat(dataframes, ignore_index=True)\n",
    "combined_df[\"step\"] = combined_df[\"step\"].astype(int)\n",
    "combined_df.sort_values([\"sample\",\"step\"],inplace=True)"
   ]
  }
 ],
 "metadata": {
  "kernelspec": {
   "display_name": "Python 3 (ipykernel)",
   "language": "python",
   "name": "python3"
  },
  "language_info": {
   "codemirror_mode": {
    "name": "ipython",
    "version": 3
   },
   "file_extension": ".py",
   "mimetype": "text/x-python",
   "name": "python",
   "nbconvert_exporter": "python",
   "pygments_lexer": "ipython3",
   "version": "3.9.16"
  }
 },
 "nbformat": 4,
 "nbformat_minor": 5
}
